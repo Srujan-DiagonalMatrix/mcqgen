{
 "cells": [
  {
   "cell_type": "markdown",
   "metadata": {},
   "source": [
    "# **Create a dir and CD:**\n",
    "\n",
    "cd /Users/alikanti/Documents/GenAI/mcqgen"
   ]
  },
  {
   "cell_type": "markdown",
   "metadata": {},
   "source": [
    "# **Setup conda env and activate**"
   ]
  },
  {
   "cell_type": "markdown",
   "metadata": {},
   "source": [
    "    open dir in VS code\n",
    "\tgit init\n",
    "\tconda create -p env python=3.12.7 -y\n",
    "\tsource activate ./env"
   ]
  },
  {
   "cell_type": "markdown",
   "metadata": {},
   "source": [
    "# **Ensure you gitignore setupfiles**"
   ]
  },
  {
   "cell_type": "markdown",
   "metadata": {},
   "source": [
    "add env in READ.md file and push"
   ]
  },
  {
   "cell_type": "markdown",
   "metadata": {},
   "source": [
    "# **Add requirements.txt file**"
   ]
  },
  {
   "cell_type": "markdown",
   "metadata": {},
   "source": [
    "\tlist all the packages names\n",
    "\tpip install -r requirements.txt"
   ]
  },
  {
   "cell_type": "markdown",
   "metadata": {},
   "source": [
    "# **env list**"
   ]
  },
  {
   "cell_type": "markdown",
   "metadata": {},
   "source": [
    "conda env list\n",
    "conda activate env"
   ]
  },
  {
   "cell_type": "markdown",
   "metadata": {},
   "source": []
  }
 ],
 "metadata": {
  "language_info": {
   "name": "python"
  }
 },
 "nbformat": 4,
 "nbformat_minor": 2
}
